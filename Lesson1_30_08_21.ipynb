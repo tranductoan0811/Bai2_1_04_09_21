{
 "cells": [
  {
   "cell_type": "code",
   "execution_count": 1,
   "id": "7f0ca08b",
   "metadata": {},
   "outputs": [
    {
     "name": "stdout",
     "output_type": "stream",
     "text": [
      "Hello my teacher\n"
     ]
    }
   ],
   "source": [
    "print(\"Hello my teacher\")"
   ]
  },
  {
   "cell_type": "code",
   "execution_count": 3,
   "id": "3e767019",
   "metadata": {},
   "outputs": [
    {
     "name": "stdout",
     "output_type": "stream",
     "text": [
      "I am your student of PYF2108R1 python class \n"
     ]
    }
   ],
   "source": [
    "print(\"I am your student of PYF2108R1 python class \")"
   ]
  },
  {
   "cell_type": "code",
   "execution_count": 7,
   "id": "aebdec2c",
   "metadata": {},
   "outputs": [
    {
     "name": "stdout",
     "output_type": "stream",
     "text": [
      "I am so glad to learn with your coaching.Thank You so much. \n"
     ]
    }
   ],
   "source": [
    "print(\"I am so glad to learn with your coaching.Thank You so much. \")"
   ]
  }
 ],
 "metadata": {
  "kernelspec": {
   "display_name": "Python 3 (ipykernel)",
   "language": "python",
   "name": "python3"
  },
  "language_info": {
   "codemirror_mode": {
    "name": "ipython",
    "version": 3
   },
   "file_extension": ".py",
   "mimetype": "text/x-python",
   "name": "python",
   "nbconvert_exporter": "python",
   "pygments_lexer": "ipython3",
   "version": "3.9.6"
  }
 },
 "nbformat": 4,
 "nbformat_minor": 5
}
