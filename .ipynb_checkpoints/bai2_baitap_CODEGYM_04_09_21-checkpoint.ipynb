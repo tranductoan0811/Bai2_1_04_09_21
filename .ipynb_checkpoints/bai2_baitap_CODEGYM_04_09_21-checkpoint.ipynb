{
 "cells": [
  {
   "cell_type": "code",
   "execution_count": 2,
   "id": "c5fe9658",
   "metadata": {},
   "outputs": [
    {
     "name": "stdout",
     "output_type": "stream",
     "text": [
      "tran duc toan\n",
      "Cổ Nhuế, Bắc Từ Liêm, Hà Nội\n",
      "học python phục vụ công việc quản trị database công ty \n"
     ]
    }
   ],
   "source": [
    "print(\"tran duc toan\")\n",
    "print(\"Cổ Nhuế, Bắc Từ Liêm, Hà Nội\")\n",
    "print(\"học python phục vụ công việc quản trị database công ty \")"
   ]
  }
 ],
 "metadata": {
  "kernelspec": {
   "display_name": "Python 3 (ipykernel)",
   "language": "python",
   "name": "python3"
  },
  "language_info": {
   "codemirror_mode": {
    "name": "ipython",
    "version": 3
   },
   "file_extension": ".py",
   "mimetype": "text/x-python",
   "name": "python",
   "nbconvert_exporter": "python",
   "pygments_lexer": "ipython3",
   "version": "3.9.6"
  }
 },
 "nbformat": 4,
 "nbformat_minor": 5
}
