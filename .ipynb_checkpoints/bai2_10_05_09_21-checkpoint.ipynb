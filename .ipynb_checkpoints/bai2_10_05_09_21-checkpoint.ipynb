{
 "cells": [
  {
   "cell_type": "code",
   "execution_count": 5,
   "id": "4e102992",
   "metadata": {},
   "outputs": [
    {
     "name": "stdout",
     "output_type": "stream",
     "text": [
      "hello averyone\n",
      "are u ok?\n"
     ]
    }
   ],
   "source": [
    "print(\"hello averyone\")\n",
    "print(\"are u ok?\")"
   ]
  },
  {
   "cell_type": "code",
   "execution_count": 1,
   "id": "347b8c4c",
   "metadata": {},
   "outputs": [
    {
     "name": "stdout",
     "output_type": "stream",
     "text": [
      "have u done?\n"
     ]
    }
   ],
   "source": [
    "print(\"have u done?\")"
   ]
  },
  {
   "cell_type": "code",
   "execution_count": 1,
   "id": "785ddcc7",
   "metadata": {},
   "outputs": [
    {
     "name": "stdout",
     "output_type": "stream",
     "text": [
      "why sometimes network disconnect temporarily ? \n"
     ]
    }
   ],
   "source": [
    "print(\"why sometimes network disconnect temporarily ? \")"
   ]
  }
 ],
 "metadata": {
  "kernelspec": {
   "display_name": "Python 3 (ipykernel)",
   "language": "python",
   "name": "python3"
  },
  "language_info": {
   "codemirror_mode": {
    "name": "ipython",
    "version": 3
   },
   "file_extension": ".py",
   "mimetype": "text/x-python",
   "name": "python",
   "nbconvert_exporter": "python",
   "pygments_lexer": "ipython3",
   "version": "3.9.6"
  }
 },
 "nbformat": 4,
 "nbformat_minor": 5
}
